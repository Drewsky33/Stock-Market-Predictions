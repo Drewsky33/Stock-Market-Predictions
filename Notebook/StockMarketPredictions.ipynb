{
 "cells": [
  {
   "cell_type": "markdown",
   "id": "074dee58-a941-45a7-8c13-7c84cd2b02e7",
   "metadata": {},
   "source": [
    "# Predicting Tomorrow's Stock Prices with Machine Learning"
   ]
  },
  {
   "cell_type": "code",
   "execution_count": 81,
   "id": "1a8149f8-f598-42e1-aeba-f3f4e024b5f8",
   "metadata": {},
   "outputs": [],
   "source": [
    "# Import Yahoo Finance API \n",
    "import yfinance as yf"
   ]
  },
  {
   "cell_type": "code",
   "execution_count": 82,
   "id": "375dbfff-508d-4079-bb3d-3f034be5139e",
   "metadata": {},
   "outputs": [],
   "source": [
    "# Download Price History\n",
    "\n",
    "sp500 = yf.Ticker(\"^GSPC\") # ^GSPC is the S&P500 Index"
   ]
  },
  {
   "cell_type": "code",
   "execution_count": 83,
   "id": "99eebbb0-c17a-40d4-a605-2b558d9ea9ce",
   "metadata": {},
   "outputs": [],
   "source": [
    "# Query Historical Prices\n",
    "sp500 = sp500.history(period = 'max') # history method will query all data from when the index was created"
   ]
  },
  {
   "cell_type": "code",
   "execution_count": 84,
   "id": "651f1b99-6273-48f5-9f25-07a1e39651f0",
   "metadata": {},
   "outputs": [
    {
     "data": {
      "text/html": [
       "<div>\n",
       "<style scoped>\n",
       "    .dataframe tbody tr th:only-of-type {\n",
       "        vertical-align: middle;\n",
       "    }\n",
       "\n",
       "    .dataframe tbody tr th {\n",
       "        vertical-align: top;\n",
       "    }\n",
       "\n",
       "    .dataframe thead th {\n",
       "        text-align: right;\n",
       "    }\n",
       "</style>\n",
       "<table border=\"1\" class=\"dataframe\">\n",
       "  <thead>\n",
       "    <tr style=\"text-align: right;\">\n",
       "      <th></th>\n",
       "      <th>Open</th>\n",
       "      <th>High</th>\n",
       "      <th>Low</th>\n",
       "      <th>Close</th>\n",
       "      <th>Volume</th>\n",
       "      <th>Dividends</th>\n",
       "      <th>Stock Splits</th>\n",
       "    </tr>\n",
       "    <tr>\n",
       "      <th>Date</th>\n",
       "      <th></th>\n",
       "      <th></th>\n",
       "      <th></th>\n",
       "      <th></th>\n",
       "      <th></th>\n",
       "      <th></th>\n",
       "      <th></th>\n",
       "    </tr>\n",
       "  </thead>\n",
       "  <tbody>\n",
       "    <tr>\n",
       "      <th>1950-01-03</th>\n",
       "      <td>16.660000</td>\n",
       "      <td>16.660000</td>\n",
       "      <td>16.660000</td>\n",
       "      <td>16.660000</td>\n",
       "      <td>1260000</td>\n",
       "      <td>0</td>\n",
       "      <td>0</td>\n",
       "    </tr>\n",
       "    <tr>\n",
       "      <th>1950-01-04</th>\n",
       "      <td>16.850000</td>\n",
       "      <td>16.850000</td>\n",
       "      <td>16.850000</td>\n",
       "      <td>16.850000</td>\n",
       "      <td>1890000</td>\n",
       "      <td>0</td>\n",
       "      <td>0</td>\n",
       "    </tr>\n",
       "    <tr>\n",
       "      <th>1950-01-05</th>\n",
       "      <td>16.930000</td>\n",
       "      <td>16.930000</td>\n",
       "      <td>16.930000</td>\n",
       "      <td>16.930000</td>\n",
       "      <td>2550000</td>\n",
       "      <td>0</td>\n",
       "      <td>0</td>\n",
       "    </tr>\n",
       "    <tr>\n",
       "      <th>1950-01-06</th>\n",
       "      <td>16.980000</td>\n",
       "      <td>16.980000</td>\n",
       "      <td>16.980000</td>\n",
       "      <td>16.980000</td>\n",
       "      <td>2010000</td>\n",
       "      <td>0</td>\n",
       "      <td>0</td>\n",
       "    </tr>\n",
       "    <tr>\n",
       "      <th>1950-01-09</th>\n",
       "      <td>17.080000</td>\n",
       "      <td>17.080000</td>\n",
       "      <td>17.080000</td>\n",
       "      <td>17.080000</td>\n",
       "      <td>2520000</td>\n",
       "      <td>0</td>\n",
       "      <td>0</td>\n",
       "    </tr>\n",
       "    <tr>\n",
       "      <th>...</th>\n",
       "      <td>...</td>\n",
       "      <td>...</td>\n",
       "      <td>...</td>\n",
       "      <td>...</td>\n",
       "      <td>...</td>\n",
       "      <td>...</td>\n",
       "      <td>...</td>\n",
       "    </tr>\n",
       "    <tr>\n",
       "      <th>2022-06-10</th>\n",
       "      <td>3974.389893</td>\n",
       "      <td>3974.389893</td>\n",
       "      <td>3900.159912</td>\n",
       "      <td>3900.860107</td>\n",
       "      <td>3936120000</td>\n",
       "      <td>0</td>\n",
       "      <td>0</td>\n",
       "    </tr>\n",
       "    <tr>\n",
       "      <th>2022-06-13</th>\n",
       "      <td>3838.149902</td>\n",
       "      <td>3838.149902</td>\n",
       "      <td>3734.300049</td>\n",
       "      <td>3749.629883</td>\n",
       "      <td>4572820000</td>\n",
       "      <td>0</td>\n",
       "      <td>0</td>\n",
       "    </tr>\n",
       "    <tr>\n",
       "      <th>2022-06-14</th>\n",
       "      <td>3763.520020</td>\n",
       "      <td>3778.179932</td>\n",
       "      <td>3705.679932</td>\n",
       "      <td>3735.479980</td>\n",
       "      <td>4126400000</td>\n",
       "      <td>0</td>\n",
       "      <td>0</td>\n",
       "    </tr>\n",
       "    <tr>\n",
       "      <th>2022-06-15</th>\n",
       "      <td>3764.050049</td>\n",
       "      <td>3837.560059</td>\n",
       "      <td>3722.300049</td>\n",
       "      <td>3789.989990</td>\n",
       "      <td>4474610000</td>\n",
       "      <td>0</td>\n",
       "      <td>0</td>\n",
       "    </tr>\n",
       "    <tr>\n",
       "      <th>2022-06-16</th>\n",
       "      <td>3728.179932</td>\n",
       "      <td>3728.179932</td>\n",
       "      <td>3639.770020</td>\n",
       "      <td>3666.770020</td>\n",
       "      <td>3075657000</td>\n",
       "      <td>0</td>\n",
       "      <td>0</td>\n",
       "    </tr>\n",
       "  </tbody>\n",
       "</table>\n",
       "<p>18233 rows × 7 columns</p>\n",
       "</div>"
      ],
      "text/plain": [
       "                   Open         High          Low        Close      Volume  \\\n",
       "Date                                                                         \n",
       "1950-01-03    16.660000    16.660000    16.660000    16.660000     1260000   \n",
       "1950-01-04    16.850000    16.850000    16.850000    16.850000     1890000   \n",
       "1950-01-05    16.930000    16.930000    16.930000    16.930000     2550000   \n",
       "1950-01-06    16.980000    16.980000    16.980000    16.980000     2010000   \n",
       "1950-01-09    17.080000    17.080000    17.080000    17.080000     2520000   \n",
       "...                 ...          ...          ...          ...         ...   \n",
       "2022-06-10  3974.389893  3974.389893  3900.159912  3900.860107  3936120000   \n",
       "2022-06-13  3838.149902  3838.149902  3734.300049  3749.629883  4572820000   \n",
       "2022-06-14  3763.520020  3778.179932  3705.679932  3735.479980  4126400000   \n",
       "2022-06-15  3764.050049  3837.560059  3722.300049  3789.989990  4474610000   \n",
       "2022-06-16  3728.179932  3728.179932  3639.770020  3666.770020  3075657000   \n",
       "\n",
       "            Dividends  Stock Splits  \n",
       "Date                                 \n",
       "1950-01-03          0             0  \n",
       "1950-01-04          0             0  \n",
       "1950-01-05          0             0  \n",
       "1950-01-06          0             0  \n",
       "1950-01-09          0             0  \n",
       "...               ...           ...  \n",
       "2022-06-10          0             0  \n",
       "2022-06-13          0             0  \n",
       "2022-06-14          0             0  \n",
       "2022-06-15          0             0  \n",
       "2022-06-16          0             0  \n",
       "\n",
       "[18233 rows x 7 columns]"
      ]
     },
     "execution_count": 84,
     "metadata": {},
     "output_type": "execute_result"
    }
   ],
   "source": [
    "sp500"
   ]
  },
  {
   "cell_type": "markdown",
   "id": "dd58856b-5e46-42f7-b88a-a40844c1fadc",
   "metadata": {},
   "source": [
    "## Observations\n",
    "- Each row is the price on a single trading day.\n",
    "- We have the opening price, the high for the day, the low for the day, the closing price, the volume of trades for that day. \n",
    "    * **These columns** will be instrumental in making predictions on whether or not the price will go up or down tomorrow.\n",
    "- The `dividends` and `Stock Splits` columns won't be used in our machine learning model. "
   ]
  },
  {
   "cell_type": "code",
   "execution_count": 85,
   "id": "7ab38873-4d71-4568-82a2-52504438dc81",
   "metadata": {},
   "outputs": [
    {
     "data": {
      "text/plain": [
       "DatetimeIndex(['1950-01-03', '1950-01-04', '1950-01-05', '1950-01-06',\n",
       "               '1950-01-09', '1950-01-10', '1950-01-11', '1950-01-12',\n",
       "               '1950-01-13', '1950-01-16',\n",
       "               ...\n",
       "               '2022-06-03', '2022-06-06', '2022-06-07', '2022-06-08',\n",
       "               '2022-06-09', '2022-06-10', '2022-06-13', '2022-06-14',\n",
       "               '2022-06-15', '2022-06-16'],\n",
       "              dtype='datetime64[ns]', name='Date', length=18233, freq=None)"
      ]
     },
     "execution_count": 85,
     "metadata": {},
     "output_type": "execute_result"
    }
   ],
   "source": [
    "sp500.index"
   ]
  },
  {
   "cell_type": "markdown",
   "id": "49878516-5fcb-468d-a1a8-34927ceb7a38",
   "metadata": {},
   "source": [
    "As we saw in the dataframe earlier we have a DateTimeIndex for our index of the dataframe. This column will be used for slicing and indexing later on. Next, what I'm going to do is clean and visualize the stock market data. \n",
    "\n",
    "## Data Cleaning\n",
    "\n",
    "First, we are going to do some data cleaning, but I wanted to visualize the closing prices just to have a look at what **closing** prices have looked like historically."
   ]
  },
  {
   "cell_type": "code",
   "execution_count": 86,
   "id": "ba268687-782c-457c-9e7e-4166977b392b",
   "metadata": {},
   "outputs": [
    {
     "data": {
      "text/plain": [
       "<AxesSubplot:xlabel='Date'>"
      ]
     },
     "execution_count": 86,
     "metadata": {},
     "output_type": "execute_result"
    },
    {
     "data": {
      "image/png": "[encoded data removed]",
      "text/plain": [
       "<Figure size 432x288 with 1 Axes>"
      ]
     },
     "metadata": {
      "needs_background": "light"
     },
     "output_type": "display_data"
    }
   ],
   "source": [
    "# Visualizing the closing price\n",
    "sp500.plot.line(y= 'Close', use_index = True)"
   ]
  },
  {
   "cell_type": "markdown",
   "id": "bf27b506-cb0a-446b-9f78-9b9099ee3007",
   "metadata": {},
   "source": [
    "Whoa! It looks like the index fund has skyrocketed over the past decade. Looks like an opportunity missed!\n",
    "\n",
    "### Removing unneeded columns\n",
    "First, I'm going to remove the `Dividends` and `Stock Splits` columns. I'm removing these columns because these are better used for individual stocks rather than gauging an index. "
   ]
  },
  {
   "cell_type": "code",
   "execution_count": 87,
   "id": "8a767181-c43b-4af2-a5fa-5cbf0c0465e0",
   "metadata": {},
   "outputs": [],
   "source": [
    "# Deleting Dividends\n",
    "del sp500[\"Dividends\"]\n",
    "\n",
    "# Deleting Stock Splits\n",
    "del sp500[\"Stock Splits\"]"
   ]
  },
  {
   "cell_type": "markdown",
   "id": "7cd947f9-afe5-4344-add3-bf634b68e7c9",
   "metadata": {},
   "source": [
    "## Choosing a target to predict on\n",
    "\n",
    "Next, I'll set up a target to predict on using machine learning. Some people like trying to predict the absolute price, but what most people want is to predict on the direction the stock is trending in. We want to know if the stock will go up if we buy the stock. \n",
    "\n",
    "**So,** what I'm trying to figure out is the answer to this question:\n",
    "- On days that the stock actually goes up, can I predict that the stock will indeed go up?\n",
    "\n"
   ]
  },
  {
   "cell_type": "code",
   "execution_count": 88,
   "id": "bf39218f-efc0-48cd-84fb-c7d19b8531e9",
   "metadata": {},
   "outputs": [
    {
     "data": {
      "text/html": [
       "<div>\n",
       "<style scoped>\n",
       "    .dataframe tbody tr th:only-of-type {\n",
       "        vertical-align: middle;\n",
       "    }\n",
       "\n",
       "    .dataframe tbody tr th {\n",
       "        vertical-align: top;\n",
       "    }\n",
       "\n",
       "    .dataframe thead th {\n",
       "        text-align: right;\n",
       "    }\n",
       "</style>\n",
       "<table border=\"1\" class=\"dataframe\">\n",
       "  <thead>\n",
       "    <tr style=\"text-align: right;\">\n",
       "      <th></th>\n",
       "      <th>Open</th>\n",
       "      <th>High</th>\n",
       "      <th>Low</th>\n",
       "      <th>Close</th>\n",
       "      <th>Volume</th>\n",
       "      <th>Tomorrow</th>\n",
       "    </tr>\n",
       "    <tr>\n",
       "      <th>Date</th>\n",
       "      <th></th>\n",
       "      <th></th>\n",
       "      <th></th>\n",
       "      <th></th>\n",
       "      <th></th>\n",
       "      <th></th>\n",
       "    </tr>\n",
       "  </thead>\n",
       "  <tbody>\n",
       "    <tr>\n",
       "      <th>1950-01-03</th>\n",
       "      <td>16.66</td>\n",
       "      <td>16.66</td>\n",
       "      <td>16.66</td>\n",
       "      <td>16.66</td>\n",
       "      <td>1260000</td>\n",
       "      <td>16.850000</td>\n",
       "    </tr>\n",
       "    <tr>\n",
       "      <th>1950-01-04</th>\n",
       "      <td>16.85</td>\n",
       "      <td>16.85</td>\n",
       "      <td>16.85</td>\n",
       "      <td>16.85</td>\n",
       "      <td>1890000</td>\n",
       "      <td>16.930000</td>\n",
       "    </tr>\n",
       "    <tr>\n",
       "      <th>1950-01-05</th>\n",
       "      <td>16.93</td>\n",
       "      <td>16.93</td>\n",
       "      <td>16.93</td>\n",
       "      <td>16.93</td>\n",
       "      <td>2550000</td>\n",
       "      <td>16.980000</td>\n",
       "    </tr>\n",
       "    <tr>\n",
       "      <th>1950-01-06</th>\n",
       "      <td>16.98</td>\n",
       "      <td>16.98</td>\n",
       "      <td>16.98</td>\n",
       "      <td>16.98</td>\n",
       "      <td>2010000</td>\n",
       "      <td>17.080000</td>\n",
       "    </tr>\n",
       "    <tr>\n",
       "      <th>1950-01-09</th>\n",
       "      <td>17.08</td>\n",
       "      <td>17.08</td>\n",
       "      <td>17.08</td>\n",
       "      <td>17.08</td>\n",
       "      <td>2520000</td>\n",
       "      <td>17.030001</td>\n",
       "    </tr>\n",
       "  </tbody>\n",
       "</table>\n",
       "</div>"
      ],
      "text/plain": [
       "             Open   High    Low  Close   Volume   Tomorrow\n",
       "Date                                                      \n",
       "1950-01-03  16.66  16.66  16.66  16.66  1260000  16.850000\n",
       "1950-01-04  16.85  16.85  16.85  16.85  1890000  16.930000\n",
       "1950-01-05  16.93  16.93  16.93  16.93  2550000  16.980000\n",
       "1950-01-06  16.98  16.98  16.98  16.98  2010000  17.080000\n",
       "1950-01-09  17.08  17.08  17.08  17.08  2520000  17.030001"
      ]
     },
     "execution_count": 88,
     "metadata": {},
     "output_type": "execute_result"
    }
   ],
   "source": [
    "# Create a column called Tomorrow\n",
    "sp500[\"Tomorrow\"] = sp500[\"Close\"].shift(-1)\n",
    "\n",
    "# Observe the transformation\n",
    "sp500.head()"
   ]
  },
  {
   "cell_type": "markdown",
   "id": "7ec1e6ce-2c7b-47c3-86bf-f36f32ecb275",
   "metadata": {},
   "source": [
    "What I did here is I took the `Close` column and and shifted the prices forward one day. This is going to be our target and what we will try to predict using Machine Learning. "
   ]
  },
  {
   "cell_type": "code",
   "execution_count": 89,
   "id": "148870cc-c64c-4556-8eb8-5b3f8b3d9fc0",
   "metadata": {},
   "outputs": [
    {
     "data": {
      "text/html": [
       "<div>\n",
       "<style scoped>\n",
       "    .dataframe tbody tr th:only-of-type {\n",
       "        vertical-align: middle;\n",
       "    }\n",
       "\n",
       "    .dataframe tbody tr th {\n",
       "        vertical-align: top;\n",
       "    }\n",
       "\n",
       "    .dataframe thead th {\n",
       "        text-align: right;\n",
       "    }\n",
       "</style>\n",
       "<table border=\"1\" class=\"dataframe\">\n",
       "  <thead>\n",
       "    <tr style=\"text-align: right;\">\n",
       "      <th></th>\n",
       "      <th>Open</th>\n",
       "      <th>High</th>\n",
       "      <th>Low</th>\n",
       "      <th>Close</th>\n",
       "      <th>Volume</th>\n",
       "      <th>Tomorrow</th>\n",
       "      <th>Target</th>\n",
       "    </tr>\n",
       "    <tr>\n",
       "      <th>Date</th>\n",
       "      <th></th>\n",
       "      <th></th>\n",
       "      <th></th>\n",
       "      <th></th>\n",
       "      <th></th>\n",
       "      <th></th>\n",
       "      <th></th>\n",
       "    </tr>\n",
       "  </thead>\n",
       "  <tbody>\n",
       "    <tr>\n",
       "      <th>1950-01-03</th>\n",
       "      <td>16.66</td>\n",
       "      <td>16.66</td>\n",
       "      <td>16.66</td>\n",
       "      <td>16.66</td>\n",
       "      <td>1260000</td>\n",
       "      <td>16.850000</td>\n",
       "      <td>1</td>\n",
       "    </tr>\n",
       "    <tr>\n",
       "      <th>1950-01-04</th>\n",
       "      <td>16.85</td>\n",
       "      <td>16.85</td>\n",
       "      <td>16.85</td>\n",
       "      <td>16.85</td>\n",
       "      <td>1890000</td>\n",
       "      <td>16.930000</td>\n",
       "      <td>1</td>\n",
       "    </tr>\n",
       "    <tr>\n",
       "      <th>1950-01-05</th>\n",
       "      <td>16.93</td>\n",
       "      <td>16.93</td>\n",
       "      <td>16.93</td>\n",
       "      <td>16.93</td>\n",
       "      <td>2550000</td>\n",
       "      <td>16.980000</td>\n",
       "      <td>1</td>\n",
       "    </tr>\n",
       "    <tr>\n",
       "      <th>1950-01-06</th>\n",
       "      <td>16.98</td>\n",
       "      <td>16.98</td>\n",
       "      <td>16.98</td>\n",
       "      <td>16.98</td>\n",
       "      <td>2010000</td>\n",
       "      <td>17.080000</td>\n",
       "      <td>1</td>\n",
       "    </tr>\n",
       "    <tr>\n",
       "      <th>1950-01-09</th>\n",
       "      <td>17.08</td>\n",
       "      <td>17.08</td>\n",
       "      <td>17.08</td>\n",
       "      <td>17.08</td>\n",
       "      <td>2520000</td>\n",
       "      <td>17.030001</td>\n",
       "      <td>0</td>\n",
       "    </tr>\n",
       "  </tbody>\n",
       "</table>\n",
       "</div>"
      ],
      "text/plain": [
       "             Open   High    Low  Close   Volume   Tomorrow  Target\n",
       "Date                                                              \n",
       "1950-01-03  16.66  16.66  16.66  16.66  1260000  16.850000       1\n",
       "1950-01-04  16.85  16.85  16.85  16.85  1890000  16.930000       1\n",
       "1950-01-05  16.93  16.93  16.93  16.93  2550000  16.980000       1\n",
       "1950-01-06  16.98  16.98  16.98  16.98  2010000  17.080000       1\n",
       "1950-01-09  17.08  17.08  17.08  17.08  2520000  17.030001       0"
      ]
     },
     "execution_count": 89,
     "metadata": {},
     "output_type": "execute_result"
    }
   ],
   "source": [
    "# Target Column\n",
    "sp500[\"Target\"] = (sp500[\"Tomorrow\"] > sp500[\"Close\"]).astype(int) # Creates a boolean outcome for the comparison and then converts the boolean to an integer. \n",
    "\n",
    "# Check output\n",
    "sp500.head()"
   ]
  },
  {
   "cell_type": "markdown",
   "id": "2ff442d0-a20d-408e-bed6-3f74b7c1c961",
   "metadata": {},
   "source": [
    "We needed a way to compare whether or not tomorrow's price is going up or not. So what we did was create a new column called `Target` that will compare the if the closing price is smaller than tomorrow's opening price. After created that Boolean comparison, then we converted that comparison value to an integer since Machine Learning works with numerical data.\n",
    "\n",
    "### Filtering for relevant data\n",
    "We need to remove some historical data because the stock market has shifted fundamentally at different points in history. Personally, I want data relevant to my lifetime. I was born in 1989, so I'm going to look at data from 1990. "
   ]
  },
  {
   "cell_type": "code",
   "execution_count": 90,
   "id": "fa638318-8408-4026-aac7-99aecb8bbdfe",
   "metadata": {},
   "outputs": [
    {
     "data": {
      "text/html": [
       "<div>\n",
       "<style scoped>\n",
       "    .dataframe tbody tr th:only-of-type {\n",
       "        vertical-align: middle;\n",
       "    }\n",
       "\n",
       "    .dataframe tbody tr th {\n",
       "        vertical-align: top;\n",
       "    }\n",
       "\n",
       "    .dataframe thead th {\n",
       "        text-align: right;\n",
       "    }\n",
       "</style>\n",
       "<table border=\"1\" class=\"dataframe\">\n",
       "  <thead>\n",
       "    <tr style=\"text-align: right;\">\n",
       "      <th></th>\n",
       "      <th>Open</th>\n",
       "      <th>High</th>\n",
       "      <th>Low</th>\n",
       "      <th>Close</th>\n",
       "      <th>Volume</th>\n",
       "      <th>Tomorrow</th>\n",
       "      <th>Target</th>\n",
       "    </tr>\n",
       "    <tr>\n",
       "      <th>Date</th>\n",
       "      <th></th>\n",
       "      <th></th>\n",
       "      <th></th>\n",
       "      <th></th>\n",
       "      <th></th>\n",
       "      <th></th>\n",
       "      <th></th>\n",
       "    </tr>\n",
       "  </thead>\n",
       "  <tbody>\n",
       "    <tr>\n",
       "      <th>1990-01-02</th>\n",
       "      <td>353.399994</td>\n",
       "      <td>359.690002</td>\n",
       "      <td>351.980011</td>\n",
       "      <td>359.690002</td>\n",
       "      <td>162070000</td>\n",
       "      <td>358.760010</td>\n",
       "      <td>0</td>\n",
       "    </tr>\n",
       "    <tr>\n",
       "      <th>1990-01-03</th>\n",
       "      <td>359.690002</td>\n",
       "      <td>360.589996</td>\n",
       "      <td>357.890015</td>\n",
       "      <td>358.760010</td>\n",
       "      <td>192330000</td>\n",
       "      <td>355.670013</td>\n",
       "      <td>0</td>\n",
       "    </tr>\n",
       "    <tr>\n",
       "      <th>1990-01-04</th>\n",
       "      <td>358.760010</td>\n",
       "      <td>358.760010</td>\n",
       "      <td>352.890015</td>\n",
       "      <td>355.670013</td>\n",
       "      <td>177000000</td>\n",
       "      <td>352.200012</td>\n",
       "      <td>0</td>\n",
       "    </tr>\n",
       "    <tr>\n",
       "      <th>1990-01-05</th>\n",
       "      <td>355.670013</td>\n",
       "      <td>355.670013</td>\n",
       "      <td>351.350006</td>\n",
       "      <td>352.200012</td>\n",
       "      <td>158530000</td>\n",
       "      <td>353.790009</td>\n",
       "      <td>1</td>\n",
       "    </tr>\n",
       "    <tr>\n",
       "      <th>1990-01-08</th>\n",
       "      <td>352.200012</td>\n",
       "      <td>354.239990</td>\n",
       "      <td>350.540009</td>\n",
       "      <td>353.790009</td>\n",
       "      <td>140110000</td>\n",
       "      <td>349.619995</td>\n",
       "      <td>0</td>\n",
       "    </tr>\n",
       "  </tbody>\n",
       "</table>\n",
       "</div>"
      ],
      "text/plain": [
       "                  Open        High         Low       Close     Volume  \\\n",
       "Date                                                                    \n",
       "1990-01-02  353.399994  359.690002  351.980011  359.690002  162070000   \n",
       "1990-01-03  359.690002  360.589996  357.890015  358.760010  192330000   \n",
       "1990-01-04  358.760010  358.760010  352.890015  355.670013  177000000   \n",
       "1990-01-05  355.670013  355.670013  351.350006  352.200012  158530000   \n",
       "1990-01-08  352.200012  354.239990  350.540009  353.790009  140110000   \n",
       "\n",
       "              Tomorrow  Target  \n",
       "Date                            \n",
       "1990-01-02  358.760010       0  \n",
       "1990-01-03  355.670013       0  \n",
       "1990-01-04  352.200012       0  \n",
       "1990-01-05  353.790009       1  \n",
       "1990-01-08  349.619995       0  "
      ]
     },
     "execution_count": 90,
     "metadata": {},
     "output_type": "execute_result"
    }
   ],
   "source": [
    "# Indexing for data from 1990\n",
    "sp500 = sp500.loc[\"1990-01-01\":].copy()\n",
    "\n",
    "# Observe the output\n",
    "sp500.head()"
   ]
  },
  {
   "cell_type": "markdown",
   "id": "d1772c86-fabf-4a63-9d1e-a04177e51fd8",
   "metadata": {},
   "source": [
    "Now that I have my target variables set up, I want to start pulling in some of the models that I'll be using. Random forest will be used first because of it's ability to learn from complex decision trees decisions and then averaging the results from the decision trees. This will help keep our predictions resistant to overfitting. One thing to note is that stock price predictions outcomes are mostly non-linear which makes it so difficult to make predictions on the stock market. For this reason, Random Forest algorithms are great at picking up non-linear relationships. "
   ]
  },
  {
   "cell_type": "code",
   "execution_count": 91,
   "id": "4fd32245-3a62-457a-ba4c-64ebe3618a62",
   "metadata": {},
   "outputs": [
    {
     "data": {
      "text/plain": [
       "RandomForestClassifier(min_samples_split=100, random_state=1)"
      ]
     },
     "execution_count": 91,
     "metadata": {},
     "output_type": "execute_result"
    }
   ],
   "source": [
    "# Import sklearn models\n",
    "from sklearn.ensemble import RandomForestClassifier\n",
    "\n",
    "# Initialize random model\n",
    "model = RandomForestClassifier(n_estimators = 100, min_samples_split = 100, random_state = 1) # Set the min_samples split to 100 to prevent overfitting, the lower the number the more accurate the model, random_state = 1 ensures the model is reproducible\n",
    "\n",
    "# Split the data into train and test sets\n",
    "train = sp500.iloc[:-100] # all rows except the last 100 rows into the training set\n",
    "test = sp500.iloc[-100:] # the last 100 rows into the test set\n",
    "\n",
    "# Create a list of the predictors\n",
    "predictors = [\"Close\", \"Volume\", \"Open\", \"High\", \"Low\"]  # Can't use tomorrow our target because those would result in leakage of information to our model\n",
    "\n",
    "# Fit the model using the predictors\n",
    "model.fit(train[predictors], train[\"Target\"])\n"
   ]
  },
  {
   "cell_type": "markdown",
   "id": "68cb704c-c720-442e-a299-03ea5b3110be",
   "metadata": {},
   "source": [
    "### Explanation\n",
    "- An important thing to note is that time series data can't use cross-validation because we can't use future data to predict the past, this will leak future information into the model.\n",
    "- Additionally, we are just going to do a simple split of the dataset to start. First, I'm going to split the train set that will contain all rows except for the last 100 rows of the dataset\n",
    "- Then, I'll split the test set for the last 100 rows in the set which will be used later.\n",
    "- I fit the model with the predictors chosen and was careful not the include the tomorrow or target columns as that would leak information to our set.\n",
    "- Finally, I passed the Target column into our prediction argument in our model.\n",
    "\n",
    "### Measure the model accuracy\n",
    "Next, I'll import the precision score metric from scikit-learn to measure the accuracy of the model up to this point. I'll be using this error metric because I'm assuming the end-user of this particular model wants to buy stock and they want to hold the stock and sell it. We want to know that when we buy the stock, after we buy it the stock market will increase. "
   ]
  },
  {
   "cell_type": "code",
   "execution_count": 92,
   "id": "4b13f3b9-f13f-4c1b-a9e7-ccfd4d26d228",
   "metadata": {},
   "outputs": [
    {
     "data": {
      "text/plain": [
       "array([1, 1, 1, 1, 1, 0, 1, 1, 1, 1, 1, 1, 1, 1, 1, 1, 1, 1, 1, 1, 1, 1,\n",
       "       1, 1, 1, 1, 1, 1, 0, 1, 1, 0, 0, 1, 1, 1, 1, 1, 1, 1, 1, 1, 0, 1,\n",
       "       1, 1, 1, 0, 1, 1, 1, 1, 1, 1, 1, 1, 1, 1, 1, 1, 1, 1, 1, 1, 0, 0,\n",
       "       0, 1, 1, 1, 1, 1, 1, 1, 1, 1, 1, 1, 1, 1, 1, 1, 1, 1, 1, 1, 0, 1,\n",
       "       1, 1, 1, 1, 1, 1, 1, 1, 1, 1, 1, 1])"
      ]
     },
     "execution_count": 92,
     "metadata": {},
     "output_type": "execute_result"
    }
   ],
   "source": [
    "# Import sklearn\n",
    "from sklearn.metrics import precision_score\n",
    "\n",
    "# Generate predictions using the model\n",
    "preds = model.predict(test[predictors])\n",
    "\n",
    "preds"
   ]
  },
  {
   "cell_type": "markdown",
   "id": "f632ee9f-5bd7-4a26-860a-80fcf9674735",
   "metadata": {},
   "source": [
    "Numpy arrays are difficult to work with and not visually consumable, so I'm going to convert this array into a pandas Series. "
   ]
  },
  {
   "cell_type": "code",
   "execution_count": 93,
   "id": "cd54bbaf-2344-48ba-ba21-42650d52b90c",
   "metadata": {},
   "outputs": [
    {
     "data": {
      "text/plain": [
       "Date\n",
       "2022-01-25    1\n",
       "2022-01-26    1\n",
       "2022-01-27    1\n",
       "2022-01-28    1\n",
       "2022-01-31    1\n",
       "             ..\n",
       "2022-06-10    1\n",
       "2022-06-13    1\n",
       "2022-06-14    1\n",
       "2022-06-15    1\n",
       "2022-06-16    1\n",
       "Length: 100, dtype: int64"
      ]
     },
     "execution_count": 93,
     "metadata": {},
     "output_type": "execute_result"
    }
   ],
   "source": [
    "# Import pandas as pd\n",
    "\n",
    "import pandas as pd\n",
    "\n",
    "# Convert the numpy arrary into a series\n",
    "preds = pd.Series(preds, index = test.index)\n",
    "\n",
    "preds"
   ]
  },
  {
   "cell_type": "code",
   "execution_count": 94,
   "id": "0b729326-c64b-4f2c-8145-3a66d45ed66c",
   "metadata": {},
   "outputs": [
    {
     "data": {
      "text/plain": [
       "0.4444444444444444"
      ]
     },
     "execution_count": 94,
     "metadata": {},
     "output_type": "execute_result"
    }
   ],
   "source": [
    "# Calculate precision score\n",
    "precision_score(test[\"Target\"], preds)"
   ]
  },
  {
   "cell_type": "markdown",
   "id": "eb2b6c5a-5405-48b1-a804-0de8f79e54d7",
   "metadata": {},
   "source": [
    "Yikes, at the current moment when we made a prediction that the stock price would go up, it's only going up 44% of the time. We can do better. Next, I'm going to plot the predictions so we can see how it actually looks. "
   ]
  },
  {
   "cell_type": "code",
   "execution_count": 95,
   "id": "9048b3b6-426d-4bbb-9fce-772ef4e50a82",
   "metadata": {},
   "outputs": [],
   "source": [
    "# Combined actual values with predicted values\n",
    "combined = pd.concat([test[\"Target\"], preds], axis = 1)"
   ]
  },
  {
   "cell_type": "code",
   "execution_count": 96,
   "id": "836f24d1-265a-448e-a917-4c04c0b3dfa9",
   "metadata": {},
   "outputs": [
    {
     "data": {
      "text/plain": [
       "<AxesSubplot:xlabel='Date'>"
      ]
     },
     "execution_count": 96,
     "metadata": {},
     "output_type": "execute_result"
    },
    {
     "data": {
      "image/png": "[encoded data removed]",
      "text/plain": [
       "<Figure size 432x288 with 1 Axes>"
      ]
     },
     "metadata": {
      "needs_background": "light"
     },
     "output_type": "display_data"
    }
   ],
   "source": [
    "# Generate a plot\n",
    "combined.plot()"
   ]
  },
  {
   "cell_type": "markdown",
   "id": "35d39287-8715-44e1-9ebe-39d017291b63",
   "metadata": {},
   "source": [
    "Well at the moment, we can see that the model isn't performing too well. Our target values don't seem to be in line with a lot of the predictions we've been making. What we'll do next is build a more robust model. I'm going to utilize backtesting to test across multiple years of data. What I'm going to do first, is write a couple of functions that will speed up the process of building a model and backtesting. \n",
    "\n",
    "### Lightening the workload"
   ]
  },
  {
   "cell_type": "code",
   "execution_count": 97,
   "id": "888bf61c-1ca1-4ae7-9148-f816cc7b352e",
   "metadata": {},
   "outputs": [],
   "source": [
    "## Create a Prediction Function\n",
    "def predict(train, test, predictors, model):\n",
    "    model.fit(train[predictors], train[\"Target\"])\n",
    "    preds = model.predict(test[predictors])\n",
    "    preds = pd.Series(preds, index = test.index, name = \"Predictions\")\n",
    "    combined = pd.concat([test[\"Target\"], preds], axis = 1)\n",
    "    \n",
    "    #return \n",
    "    return combined"
   ]
  },
  {
   "cell_type": "code",
   "execution_count": 98,
   "id": "1624c9f9-0817-42c6-9fb5-9bbc292bee50",
   "metadata": {},
   "outputs": [],
   "source": [
    "# Create a backtest function\n",
    "\n",
    "def backtest(data, model, predictors, start=2500, step=250): # Start variable is 2500 or 10 years of data, a step is training the model for one year, then the next year, and then the next\n",
    "    all_predictions = [] # a list of dataframe where each dataframe in the list is a prediction of the single year\n",
    "\n",
    "    for i in range(start, data.shape[0], step):\n",
    "        train = data.iloc[0:i].copy() # creates the training split, all years prior to the current year\n",
    "        test = data.iloc[i:(i+step)].copy() # creates the test set which will train the model for a year\n",
    "        predictions = predict(train, test, predictors, model)\n",
    "        all_predictions.append(predictions)\n",
    "    \n",
    "    return pd.concat(all_predictions) # concatenate all of the predictions together"
   ]
  },
  {
   "cell_type": "markdown",
   "id": "cd815558-653f-49fa-90d2-7ca1a8f134f8",
   "metadata": {},
   "source": [
    "Now I'll actually perform the backtest on the sp500 data. "
   ]
  },
  {
   "cell_type": "code",
   "execution_count": 99,
   "id": "6c39d091-602d-46fe-90e3-1049233ee2b0",
   "metadata": {},
   "outputs": [],
   "source": [
    "# Apply the backtest on the model and the data\n",
    "\n",
    "predictions = backtest(sp500, model, predictors)"
   ]
  },
  {
   "cell_type": "code",
   "execution_count": 100,
   "id": "b398e58d-4e52-41f0-9a28-ad267df66990",
   "metadata": {},
   "outputs": [
    {
     "data": {
      "text/plain": [
       "0    3325\n",
       "1    2354\n",
       "Name: Predictions, dtype: int64"
      ]
     },
     "execution_count": 100,
     "metadata": {},
     "output_type": "execute_result"
    }
   ],
   "source": [
    "# Let's look at predictions and see how they performed against the actual value\n",
    "\n",
    "predictions[\"Predictions\"].value_counts()"
   ]
  },
  {
   "cell_type": "markdown",
   "id": "346e19a3-6e66-4030-9bf1-ebb960689168",
   "metadata": {},
   "source": [
    "At moment, we predicted that the market would go down on 3,326 days and predicted that the market would go up on about 2,353 days. These are the splits for our predictions.\n",
    "\n",
    "** Next, ** I'm going to have a look at the precision score to see if the model improved. "
   ]
  },
  {
   "cell_type": "code",
   "execution_count": 101,
   "id": "652157e0-5212-4041-9c94-6f13cef15983",
   "metadata": {},
   "outputs": [
    {
     "data": {
      "text/plain": [
       "0.5348343245539507"
      ]
     },
     "execution_count": 101,
     "metadata": {},
     "output_type": "execute_result"
    }
   ],
   "source": [
    "# Precision Score for the new model\n",
    "precision_score(predictions[\"Target\"], predictions[\"Predictions\"])"
   ]
  },
  {
   "cell_type": "markdown",
   "id": "7cd0e1e7-691a-431d-aab7-6fb1cbd523bc",
   "metadata": {},
   "source": [
    "At the moment we are about 53% accurate. When the model predicted that the market would go up, it went up about 53% of the time. To determine if this is good or not, we are going to calculate the percentage of days that the market actually went up. "
   ]
  },
  {
   "cell_type": "code",
   "execution_count": 102,
   "id": "dbe5cf5c-91cd-41e0-8455-1d56cdb58542",
   "metadata": {},
   "outputs": [
    {
     "data": {
      "text/plain": [
       "1    0.536538\n",
       "0    0.463462\n",
       "Name: Target, dtype: float64"
      ]
     },
     "execution_count": 102,
     "metadata": {},
     "output_type": "execute_result"
    }
   ],
   "source": [
    "# Checking how accurate we were\n",
    "predictions[\"Target\"].value_counts()/ predictions.shape[0]"
   ]
  },
  {
   "cell_type": "markdown",
   "id": "0a855cc3-b13d-4a62-81b7-2b512a06b890",
   "metadata": {},
   "source": [
    "The sp500 actually went up on 53.6 percent of days and went down on 46.3 % of days. At the moment the model actually performed a litter worse than just a guess on whether not the stock market would go up. What I'll do next is add a few additional predictors to my model \n",
    "\n",
    "### Adding additional predictors\n",
    "\n",
    "Next, I'm going to make some rolling averages to determine if the stock price today was higher than it was at certain periods of time in the past. What I'm going to do is calculate the mean close price in the last 2 days, the last 5 days(trading week), the last 3 months (quarter), the last year (250), and the last 4 years (100)."
   ]
  },
  {
   "cell_type": "code",
   "execution_count": 103,
   "id": "67cee9a0-83c5-4b11-b532-07cbaa757f3f",
   "metadata": {},
   "outputs": [],
   "source": [
    "horizons = [2,5,60,250,1000]\n",
    "new_predictors = []\n",
    "\n",
    "for horizon in horizons:\n",
    "    rolling_averages = sp500.rolling(horizon).mean()\n",
    "    \n",
    "    ratio_column = f\"Close_Ratio_{horizon}\"\n",
    "    sp500[ratio_column] = sp500[\"Close\"] / rolling_averages[\"Close\"]\n",
    "    \n",
    "    trend_column = f\"Trend_{horizon}\"\n",
    "    sp500[trend_column] = sp500.shift(1).rolling(horizon).sum()[\"Target\"]\n",
    "    \n",
    "    new_predictors+= [ratio_column, trend_column]\n",
    "    \n",
    "    "
   ]
  },
  {
   "cell_type": "code",
   "execution_count": 104,
   "id": "b8b73af8-7510-433d-b03e-c15abce61943",
   "metadata": {},
   "outputs": [
    {
     "data": {
      "text/html": [
       "<div>\n",
       "<style scoped>\n",
       "    .dataframe tbody tr th:only-of-type {\n",
       "        vertical-align: middle;\n",
       "    }\n",
       "\n",
       "    .dataframe tbody tr th {\n",
       "        vertical-align: top;\n",
       "    }\n",
       "\n",
       "    .dataframe thead th {\n",
       "        text-align: right;\n",
       "    }\n",
       "</style>\n",
       "<table border=\"1\" class=\"dataframe\">\n",
       "  <thead>\n",
       "    <tr style=\"text-align: right;\">\n",
       "      <th></th>\n",
       "      <th>Open</th>\n",
       "      <th>High</th>\n",
       "      <th>Low</th>\n",
       "      <th>Close</th>\n",
       "      <th>Volume</th>\n",
       "      <th>Tomorrow</th>\n",
       "      <th>Target</th>\n",
       "      <th>Close_Ratio_2</th>\n",
       "      <th>Trend_2</th>\n",
       "      <th>Close_Ratio_5</th>\n",
       "      <th>Trend_5</th>\n",
       "      <th>Close_Ratio_60</th>\n",
       "      <th>Trend_60</th>\n",
       "      <th>Close_Ratio_250</th>\n",
       "      <th>Trend_250</th>\n",
       "      <th>Close_Ratio_1000</th>\n",
       "      <th>Trend_1000</th>\n",
       "    </tr>\n",
       "    <tr>\n",
       "      <th>Date</th>\n",
       "      <th></th>\n",
       "      <th></th>\n",
       "      <th></th>\n",
       "      <th></th>\n",
       "      <th></th>\n",
       "      <th></th>\n",
       "      <th></th>\n",
       "      <th></th>\n",
       "      <th></th>\n",
       "      <th></th>\n",
       "      <th></th>\n",
       "      <th></th>\n",
       "      <th></th>\n",
       "      <th></th>\n",
       "      <th></th>\n",
       "      <th></th>\n",
       "      <th></th>\n",
       "    </tr>\n",
       "  </thead>\n",
       "  <tbody>\n",
       "    <tr>\n",
       "      <th>1990-01-02</th>\n",
       "      <td>353.399994</td>\n",
       "      <td>359.690002</td>\n",
       "      <td>351.980011</td>\n",
       "      <td>359.690002</td>\n",
       "      <td>162070000</td>\n",
       "      <td>358.760010</td>\n",
       "      <td>0</td>\n",
       "      <td>NaN</td>\n",
       "      <td>NaN</td>\n",
       "      <td>NaN</td>\n",
       "      <td>NaN</td>\n",
       "      <td>NaN</td>\n",
       "      <td>NaN</td>\n",
       "      <td>NaN</td>\n",
       "      <td>NaN</td>\n",
       "      <td>NaN</td>\n",
       "      <td>NaN</td>\n",
       "    </tr>\n",
       "    <tr>\n",
       "      <th>1990-01-03</th>\n",
       "      <td>359.690002</td>\n",
       "      <td>360.589996</td>\n",
       "      <td>357.890015</td>\n",
       "      <td>358.760010</td>\n",
       "      <td>192330000</td>\n",
       "      <td>355.670013</td>\n",
       "      <td>0</td>\n",
       "      <td>0.998706</td>\n",
       "      <td>NaN</td>\n",
       "      <td>NaN</td>\n",
       "      <td>NaN</td>\n",
       "      <td>NaN</td>\n",
       "      <td>NaN</td>\n",
       "      <td>NaN</td>\n",
       "      <td>NaN</td>\n",
       "      <td>NaN</td>\n",
       "      <td>NaN</td>\n",
       "    </tr>\n",
       "    <tr>\n",
       "      <th>1990-01-04</th>\n",
       "      <td>358.760010</td>\n",
       "      <td>358.760010</td>\n",
       "      <td>352.890015</td>\n",
       "      <td>355.670013</td>\n",
       "      <td>177000000</td>\n",
       "      <td>352.200012</td>\n",
       "      <td>0</td>\n",
       "      <td>0.995675</td>\n",
       "      <td>0.0</td>\n",
       "      <td>NaN</td>\n",
       "      <td>NaN</td>\n",
       "      <td>NaN</td>\n",
       "      <td>NaN</td>\n",
       "      <td>NaN</td>\n",
       "      <td>NaN</td>\n",
       "      <td>NaN</td>\n",
       "      <td>NaN</td>\n",
       "    </tr>\n",
       "    <tr>\n",
       "      <th>1990-01-05</th>\n",
       "      <td>355.670013</td>\n",
       "      <td>355.670013</td>\n",
       "      <td>351.350006</td>\n",
       "      <td>352.200012</td>\n",
       "      <td>158530000</td>\n",
       "      <td>353.790009</td>\n",
       "      <td>1</td>\n",
       "      <td>0.995098</td>\n",
       "      <td>0.0</td>\n",
       "      <td>NaN</td>\n",
       "      <td>NaN</td>\n",
       "      <td>NaN</td>\n",
       "      <td>NaN</td>\n",
       "      <td>NaN</td>\n",
       "      <td>NaN</td>\n",
       "      <td>NaN</td>\n",
       "      <td>NaN</td>\n",
       "    </tr>\n",
       "    <tr>\n",
       "      <th>1990-01-08</th>\n",
       "      <td>352.200012</td>\n",
       "      <td>354.239990</td>\n",
       "      <td>350.540009</td>\n",
       "      <td>353.790009</td>\n",
       "      <td>140110000</td>\n",
       "      <td>349.619995</td>\n",
       "      <td>0</td>\n",
       "      <td>1.002252</td>\n",
       "      <td>1.0</td>\n",
       "      <td>0.993731</td>\n",
       "      <td>NaN</td>\n",
       "      <td>NaN</td>\n",
       "      <td>NaN</td>\n",
       "      <td>NaN</td>\n",
       "      <td>NaN</td>\n",
       "      <td>NaN</td>\n",
       "      <td>NaN</td>\n",
       "    </tr>\n",
       "  </tbody>\n",
       "</table>\n",
       "</div>"
      ],
      "text/plain": [
       "                  Open        High         Low       Close     Volume  \\\n",
       "Date                                                                    \n",
       "1990-01-02  353.399994  359.690002  351.980011  359.690002  162070000   \n",
       "1990-01-03  359.690002  360.589996  357.890015  358.760010  192330000   \n",
       "1990-01-04  358.760010  358.760010  352.890015  355.670013  177000000   \n",
       "1990-01-05  355.670013  355.670013  351.350006  352.200012  158530000   \n",
       "1990-01-08  352.200012  354.239990  350.540009  353.790009  140110000   \n",
       "\n",
       "              Tomorrow  Target  Close_Ratio_2  Trend_2  Close_Ratio_5  \\\n",
       "Date                                                                    \n",
       "1990-01-02  358.760010       0            NaN      NaN            NaN   \n",
       "1990-01-03  355.670013       0       0.998706      NaN            NaN   \n",
       "1990-01-04  352.200012       0       0.995675      0.0            NaN   \n",
       "1990-01-05  353.790009       1       0.995098      0.0            NaN   \n",
       "1990-01-08  349.619995       0       1.002252      1.0       0.993731   \n",
       "\n",
       "            Trend_5  Close_Ratio_60  Trend_60  Close_Ratio_250  Trend_250  \\\n",
       "Date                                                                        \n",
       "1990-01-02      NaN             NaN       NaN              NaN        NaN   \n",
       "1990-01-03      NaN             NaN       NaN              NaN        NaN   \n",
       "1990-01-04      NaN             NaN       NaN              NaN        NaN   \n",
       "1990-01-05      NaN             NaN       NaN              NaN        NaN   \n",
       "1990-01-08      NaN             NaN       NaN              NaN        NaN   \n",
       "\n",
       "            Close_Ratio_1000  Trend_1000  \n",
       "Date                                      \n",
       "1990-01-02               NaN         NaN  \n",
       "1990-01-03               NaN         NaN  \n",
       "1990-01-04               NaN         NaN  \n",
       "1990-01-05               NaN         NaN  \n",
       "1990-01-08               NaN         NaN  "
      ]
     },
     "execution_count": 104,
     "metadata": {},
     "output_type": "execute_result"
    }
   ],
   "source": [
    "# Explore the new dataset\n",
    "\n",
    "sp500.head()"
   ]
  },
  {
   "cell_type": "markdown",
   "id": "40c7b691-af26-4ac3-b943-6e98b335bfb3",
   "metadata": {},
   "source": [
    "The NaN values in this case are days where the rolling average wasn't able to be computed because there are no days from which to draw this information. "
   ]
  },
  {
   "cell_type": "code",
   "execution_count": 105,
   "id": "b3cdbc23-def7-4798-881b-cb1246d71bc9",
   "metadata": {},
   "outputs": [
    {
     "name": "stdout",
     "output_type": "stream",
     "text": [
      "<class 'pandas.core.frame.DataFrame'>\n",
      "DatetimeIndex: 8179 entries, 1990-01-02 to 2022-06-16\n",
      "Data columns (total 17 columns):\n",
      " #   Column            Non-Null Count  Dtype  \n",
      "---  ------            --------------  -----  \n",
      " 0   Open              8179 non-null   float64\n",
      " 1   High              8179 non-null   float64\n",
      " 2   Low               8179 non-null   float64\n",
      " 3   Close             8179 non-null   float64\n",
      " 4   Volume            8179 non-null   int64  \n",
      " 5   Tomorrow          8178 non-null   float64\n",
      " 6   Target            8179 non-null   int64  \n",
      " 7   Close_Ratio_2     8178 non-null   float64\n",
      " 8   Trend_2           8177 non-null   float64\n",
      " 9   Close_Ratio_5     8175 non-null   float64\n",
      " 10  Trend_5           8174 non-null   float64\n",
      " 11  Close_Ratio_60    8120 non-null   float64\n",
      " 12  Trend_60          8119 non-null   float64\n",
      " 13  Close_Ratio_250   7930 non-null   float64\n",
      " 14  Trend_250         7929 non-null   float64\n",
      " 15  Close_Ratio_1000  7180 non-null   float64\n",
      " 16  Trend_1000        7179 non-null   float64\n",
      "dtypes: float64(15), int64(2)\n",
      "memory usage: 1.1 MB\n"
     ]
    }
   ],
   "source": [
    "# Look at the null values in the dataset \n",
    "\n",
    "sp500.info()"
   ]
  },
  {
   "cell_type": "markdown",
   "id": "4baf9b5f-35f5-4c1f-896e-5291d9349f85",
   "metadata": {},
   "source": [
    "It looks like for the most part all of the missing data is from the ratio columns that were created, when calculated rolling averages. I feel comfortable dropping these columns as they don't have too many missing values and they don't affect the origincal dataset. "
   ]
  },
  {
   "cell_type": "code",
   "execution_count": 106,
   "id": "f371e01f-2e25-4ca8-8df6-71b262e5011c",
   "metadata": {},
   "outputs": [
    {
     "data": {
      "text/html": [
       "<div>\n",
       "<style scoped>\n",
       "    .dataframe tbody tr th:only-of-type {\n",
       "        vertical-align: middle;\n",
       "    }\n",
       "\n",
       "    .dataframe tbody tr th {\n",
       "        vertical-align: top;\n",
       "    }\n",
       "\n",
       "    .dataframe thead th {\n",
       "        text-align: right;\n",
       "    }\n",
       "</style>\n",
       "<table border=\"1\" class=\"dataframe\">\n",
       "  <thead>\n",
       "    <tr style=\"text-align: right;\">\n",
       "      <th></th>\n",
       "      <th>Open</th>\n",
       "      <th>High</th>\n",
       "      <th>Low</th>\n",
       "      <th>Close</th>\n",
       "      <th>Volume</th>\n",
       "      <th>Tomorrow</th>\n",
       "      <th>Target</th>\n",
       "      <th>Close_Ratio_2</th>\n",
       "      <th>Trend_2</th>\n",
       "      <th>Close_Ratio_5</th>\n",
       "      <th>Trend_5</th>\n",
       "      <th>Close_Ratio_60</th>\n",
       "      <th>Trend_60</th>\n",
       "      <th>Close_Ratio_250</th>\n",
       "      <th>Trend_250</th>\n",
       "      <th>Close_Ratio_1000</th>\n",
       "      <th>Trend_1000</th>\n",
       "    </tr>\n",
       "    <tr>\n",
       "      <th>Date</th>\n",
       "      <th></th>\n",
       "      <th></th>\n",
       "      <th></th>\n",
       "      <th></th>\n",
       "      <th></th>\n",
       "      <th></th>\n",
       "      <th></th>\n",
       "      <th></th>\n",
       "      <th></th>\n",
       "      <th></th>\n",
       "      <th></th>\n",
       "      <th></th>\n",
       "      <th></th>\n",
       "      <th></th>\n",
       "      <th></th>\n",
       "      <th></th>\n",
       "      <th></th>\n",
       "    </tr>\n",
       "  </thead>\n",
       "  <tbody>\n",
       "    <tr>\n",
       "      <th>1993-12-14</th>\n",
       "      <td>465.730011</td>\n",
       "      <td>466.119995</td>\n",
       "      <td>462.459991</td>\n",
       "      <td>463.059998</td>\n",
       "      <td>275050000</td>\n",
       "      <td>461.839996</td>\n",
       "      <td>0</td>\n",
       "      <td>0.997157</td>\n",
       "      <td>1.0</td>\n",
       "      <td>0.996617</td>\n",
       "      <td>1.0</td>\n",
       "      <td>1.000283</td>\n",
       "      <td>32.0</td>\n",
       "      <td>1.028047</td>\n",
       "      <td>127.0</td>\n",
       "      <td>1.176082</td>\n",
       "      <td>512.0</td>\n",
       "    </tr>\n",
       "    <tr>\n",
       "      <th>1993-12-15</th>\n",
       "      <td>463.059998</td>\n",
       "      <td>463.690002</td>\n",
       "      <td>461.839996</td>\n",
       "      <td>461.839996</td>\n",
       "      <td>331770000</td>\n",
       "      <td>463.339996</td>\n",
       "      <td>1</td>\n",
       "      <td>0.998681</td>\n",
       "      <td>0.0</td>\n",
       "      <td>0.995899</td>\n",
       "      <td>1.0</td>\n",
       "      <td>0.997329</td>\n",
       "      <td>32.0</td>\n",
       "      <td>1.025151</td>\n",
       "      <td>126.0</td>\n",
       "      <td>1.172676</td>\n",
       "      <td>512.0</td>\n",
       "    </tr>\n",
       "    <tr>\n",
       "      <th>1993-12-16</th>\n",
       "      <td>461.859985</td>\n",
       "      <td>463.980011</td>\n",
       "      <td>461.859985</td>\n",
       "      <td>463.339996</td>\n",
       "      <td>284620000</td>\n",
       "      <td>466.380005</td>\n",
       "      <td>1</td>\n",
       "      <td>1.001621</td>\n",
       "      <td>1.0</td>\n",
       "      <td>0.999495</td>\n",
       "      <td>2.0</td>\n",
       "      <td>1.000311</td>\n",
       "      <td>32.0</td>\n",
       "      <td>1.028274</td>\n",
       "      <td>127.0</td>\n",
       "      <td>1.176163</td>\n",
       "      <td>513.0</td>\n",
       "    </tr>\n",
       "    <tr>\n",
       "      <th>1993-12-17</th>\n",
       "      <td>463.339996</td>\n",
       "      <td>466.380005</td>\n",
       "      <td>463.339996</td>\n",
       "      <td>466.380005</td>\n",
       "      <td>363750000</td>\n",
       "      <td>465.850006</td>\n",
       "      <td>0</td>\n",
       "      <td>1.003270</td>\n",
       "      <td>2.0</td>\n",
       "      <td>1.004991</td>\n",
       "      <td>3.0</td>\n",
       "      <td>1.006561</td>\n",
       "      <td>32.0</td>\n",
       "      <td>1.034781</td>\n",
       "      <td>128.0</td>\n",
       "      <td>1.183537</td>\n",
       "      <td>514.0</td>\n",
       "    </tr>\n",
       "    <tr>\n",
       "      <th>1993-12-20</th>\n",
       "      <td>466.380005</td>\n",
       "      <td>466.899994</td>\n",
       "      <td>465.529999</td>\n",
       "      <td>465.850006</td>\n",
       "      <td>255900000</td>\n",
       "      <td>465.299988</td>\n",
       "      <td>0</td>\n",
       "      <td>0.999431</td>\n",
       "      <td>1.0</td>\n",
       "      <td>1.003784</td>\n",
       "      <td>2.0</td>\n",
       "      <td>1.005120</td>\n",
       "      <td>32.0</td>\n",
       "      <td>1.033359</td>\n",
       "      <td>128.0</td>\n",
       "      <td>1.181856</td>\n",
       "      <td>513.0</td>\n",
       "    </tr>\n",
       "    <tr>\n",
       "      <th>...</th>\n",
       "      <td>...</td>\n",
       "      <td>...</td>\n",
       "      <td>...</td>\n",
       "      <td>...</td>\n",
       "      <td>...</td>\n",
       "      <td>...</td>\n",
       "      <td>...</td>\n",
       "      <td>...</td>\n",
       "      <td>...</td>\n",
       "      <td>...</td>\n",
       "      <td>...</td>\n",
       "      <td>...</td>\n",
       "      <td>...</td>\n",
       "      <td>...</td>\n",
       "      <td>...</td>\n",
       "      <td>...</td>\n",
       "      <td>...</td>\n",
       "    </tr>\n",
       "    <tr>\n",
       "      <th>2022-06-09</th>\n",
       "      <td>4101.649902</td>\n",
       "      <td>4119.100098</td>\n",
       "      <td>4017.169922</td>\n",
       "      <td>4017.820068</td>\n",
       "      <td>3192330000</td>\n",
       "      <td>3900.860107</td>\n",
       "      <td>0</td>\n",
       "      <td>0.987957</td>\n",
       "      <td>0.0</td>\n",
       "      <td>0.978799</td>\n",
       "      <td>2.0</td>\n",
       "      <td>0.943369</td>\n",
       "      <td>30.0</td>\n",
       "      <td>0.907572</td>\n",
       "      <td>130.0</td>\n",
       "      <td>1.157190</td>\n",
       "      <td>552.0</td>\n",
       "    </tr>\n",
       "    <tr>\n",
       "      <th>2022-06-10</th>\n",
       "      <td>3974.389893</td>\n",
       "      <td>3974.389893</td>\n",
       "      <td>3900.159912</td>\n",
       "      <td>3900.860107</td>\n",
       "      <td>3936120000</td>\n",
       "      <td>3749.629883</td>\n",
       "      <td>0</td>\n",
       "      <td>0.985230</td>\n",
       "      <td>0.0</td>\n",
       "      <td>0.960020</td>\n",
       "      <td>2.0</td>\n",
       "      <td>0.917548</td>\n",
       "      <td>29.0</td>\n",
       "      <td>0.881427</td>\n",
       "      <td>130.0</td>\n",
       "      <td>1.123132</td>\n",
       "      <td>552.0</td>\n",
       "    </tr>\n",
       "    <tr>\n",
       "      <th>2022-06-13</th>\n",
       "      <td>3838.149902</td>\n",
       "      <td>3838.149902</td>\n",
       "      <td>3734.300049</td>\n",
       "      <td>3749.629883</td>\n",
       "      <td>4572820000</td>\n",
       "      <td>3735.479980</td>\n",
       "      <td>0</td>\n",
       "      <td>0.980233</td>\n",
       "      <td>0.0</td>\n",
       "      <td>0.940004</td>\n",
       "      <td>1.0</td>\n",
       "      <td>0.884272</td>\n",
       "      <td>28.0</td>\n",
       "      <td>0.847619</td>\n",
       "      <td>130.0</td>\n",
       "      <td>1.079281</td>\n",
       "      <td>551.0</td>\n",
       "    </tr>\n",
       "    <tr>\n",
       "      <th>2022-06-14</th>\n",
       "      <td>3763.520020</td>\n",
       "      <td>3778.179932</td>\n",
       "      <td>3705.679932</td>\n",
       "      <td>3735.479980</td>\n",
       "      <td>4126400000</td>\n",
       "      <td>3789.989990</td>\n",
       "      <td>1</td>\n",
       "      <td>0.998110</td>\n",
       "      <td>0.0</td>\n",
       "      <td>0.956856</td>\n",
       "      <td>0.0</td>\n",
       "      <td>0.883461</td>\n",
       "      <td>27.0</td>\n",
       "      <td>0.844792</td>\n",
       "      <td>130.0</td>\n",
       "      <td>1.074893</td>\n",
       "      <td>551.0</td>\n",
       "    </tr>\n",
       "    <tr>\n",
       "      <th>2022-06-15</th>\n",
       "      <td>3764.050049</td>\n",
       "      <td>3837.560059</td>\n",
       "      <td>3722.300049</td>\n",
       "      <td>3789.989990</td>\n",
       "      <td>4474610000</td>\n",
       "      <td>3666.770020</td>\n",
       "      <td>0</td>\n",
       "      <td>1.007243</td>\n",
       "      <td>1.0</td>\n",
       "      <td>0.987296</td>\n",
       "      <td>1.0</td>\n",
       "      <td>0.898731</td>\n",
       "      <td>28.0</td>\n",
       "      <td>0.857411</td>\n",
       "      <td>131.0</td>\n",
       "      <td>1.090243</td>\n",
       "      <td>551.0</td>\n",
       "    </tr>\n",
       "  </tbody>\n",
       "</table>\n",
       "<p>7178 rows × 17 columns</p>\n",
       "</div>"
      ],
      "text/plain": [
       "                   Open         High          Low        Close      Volume  \\\n",
       "Date                                                                         \n",
       "1993-12-14   465.730011   466.119995   462.459991   463.059998   275050000   \n",
       "1993-12-15   463.059998   463.690002   461.839996   461.839996   331770000   \n",
       "1993-12-16   461.859985   463.980011   461.859985   463.339996   284620000   \n",
       "1993-12-17   463.339996   466.380005   463.339996   466.380005   363750000   \n",
       "1993-12-20   466.380005   466.899994   465.529999   465.850006   255900000   \n",
       "...                 ...          ...          ...          ...         ...   \n",
       "2022-06-09  4101.649902  4119.100098  4017.169922  4017.820068  3192330000   \n",
       "2022-06-10  3974.389893  3974.389893  3900.159912  3900.860107  3936120000   \n",
       "2022-06-13  3838.149902  3838.149902  3734.300049  3749.629883  4572820000   \n",
       "2022-06-14  3763.520020  3778.179932  3705.679932  3735.479980  4126400000   \n",
       "2022-06-15  3764.050049  3837.560059  3722.300049  3789.989990  4474610000   \n",
       "\n",
       "               Tomorrow  Target  Close_Ratio_2  Trend_2  Close_Ratio_5  \\\n",
       "Date                                                                     \n",
       "1993-12-14   461.839996       0       0.997157      1.0       0.996617   \n",
       "1993-12-15   463.339996       1       0.998681      0.0       0.995899   \n",
       "1993-12-16   466.380005       1       1.001621      1.0       0.999495   \n",
       "1993-12-17   465.850006       0       1.003270      2.0       1.004991   \n",
       "1993-12-20   465.299988       0       0.999431      1.0       1.003784   \n",
       "...                 ...     ...            ...      ...            ...   \n",
       "2022-06-09  3900.860107       0       0.987957      0.0       0.978799   \n",
       "2022-06-10  3749.629883       0       0.985230      0.0       0.960020   \n",
       "2022-06-13  3735.479980       0       0.980233      0.0       0.940004   \n",
       "2022-06-14  3789.989990       1       0.998110      0.0       0.956856   \n",
       "2022-06-15  3666.770020       0       1.007243      1.0       0.987296   \n",
       "\n",
       "            Trend_5  Close_Ratio_60  Trend_60  Close_Ratio_250  Trend_250  \\\n",
       "Date                                                                        \n",
       "1993-12-14      1.0        1.000283      32.0         1.028047      127.0   \n",
       "1993-12-15      1.0        0.997329      32.0         1.025151      126.0   \n",
       "1993-12-16      2.0        1.000311      32.0         1.028274      127.0   \n",
       "1993-12-17      3.0        1.006561      32.0         1.034781      128.0   \n",
       "1993-12-20      2.0        1.005120      32.0         1.033359      128.0   \n",
       "...             ...             ...       ...              ...        ...   \n",
       "2022-06-09      2.0        0.943369      30.0         0.907572      130.0   \n",
       "2022-06-10      2.0        0.917548      29.0         0.881427      130.0   \n",
       "2022-06-13      1.0        0.884272      28.0         0.847619      130.0   \n",
       "2022-06-14      0.0        0.883461      27.0         0.844792      130.0   \n",
       "2022-06-15      1.0        0.898731      28.0         0.857411      131.0   \n",
       "\n",
       "            Close_Ratio_1000  Trend_1000  \n",
       "Date                                      \n",
       "1993-12-14          1.176082       512.0  \n",
       "1993-12-15          1.172676       512.0  \n",
       "1993-12-16          1.176163       513.0  \n",
       "1993-12-17          1.183537       514.0  \n",
       "1993-12-20          1.181856       513.0  \n",
       "...                      ...         ...  \n",
       "2022-06-09          1.157190       552.0  \n",
       "2022-06-10          1.123132       552.0  \n",
       "2022-06-13          1.079281       551.0  \n",
       "2022-06-14          1.074893       551.0  \n",
       "2022-06-15          1.090243       551.0  \n",
       "\n",
       "[7178 rows x 17 columns]"
      ]
     },
     "execution_count": 106,
     "metadata": {},
     "output_type": "execute_result"
    }
   ],
   "source": [
    "# Dropping the na columns\n",
    "sp500 = sp500.dropna()\n",
    "sp500"
   ]
  },
  {
   "cell_type": "code",
   "execution_count": 107,
   "id": "9f61fd9d-fd38-448c-bfb8-0f6f83a5b9a8",
   "metadata": {},
   "outputs": [
    {
     "name": "stdout",
     "output_type": "stream",
     "text": [
      "<class 'pandas.core.frame.DataFrame'>\n",
      "DatetimeIndex: 7178 entries, 1993-12-14 to 2022-06-15\n",
      "Data columns (total 17 columns):\n",
      " #   Column            Non-Null Count  Dtype  \n",
      "---  ------            --------------  -----  \n",
      " 0   Open              7178 non-null   float64\n",
      " 1   High              7178 non-null   float64\n",
      " 2   Low               7178 non-null   float64\n",
      " 3   Close             7178 non-null   float64\n",
      " 4   Volume            7178 non-null   int64  \n",
      " 5   Tomorrow          7178 non-null   float64\n",
      " 6   Target            7178 non-null   int64  \n",
      " 7   Close_Ratio_2     7178 non-null   float64\n",
      " 8   Trend_2           7178 non-null   float64\n",
      " 9   Close_Ratio_5     7178 non-null   float64\n",
      " 10  Trend_5           7178 non-null   float64\n",
      " 11  Close_Ratio_60    7178 non-null   float64\n",
      " 12  Trend_60          7178 non-null   float64\n",
      " 13  Close_Ratio_250   7178 non-null   float64\n",
      " 14  Trend_250         7178 non-null   float64\n",
      " 15  Close_Ratio_1000  7178 non-null   float64\n",
      " 16  Trend_1000        7178 non-null   float64\n",
      "dtypes: float64(15), int64(2)\n",
      "memory usage: 1009.4 KB\n"
     ]
    }
   ],
   "source": [
    "# Checking the missing information in the dataframe now\n",
    "sp500.info()"
   ]
  },
  {
   "cell_type": "markdown",
   "id": "b8081e33-af01-4fca-8cbc-8d6bcc1765f1",
   "metadata": {},
   "source": [
    "### Updating the Model with the new information"
   ]
  },
  {
   "cell_type": "code",
   "execution_count": 110,
   "id": "457e04ac-edd9-461c-a1ff-495b6ad0ade1",
   "metadata": {},
   "outputs": [],
   "source": [
    "# Updating the model\n",
    "\n",
    "model = RandomForestClassifier(n_estimators = 200, min_samples_split = 50, random_state = 1)"
   ]
  },
  {
   "cell_type": "code",
   "execution_count": 111,
   "id": "c79bfaab-0e2e-489f-95b0-ad75cf54159f",
   "metadata": {},
   "outputs": [],
   "source": [
    "# Amending the predict function\n",
    "def predict(train, test, predictors, model):\n",
    "    model.fit(train[predictors], train[\"Target\"])\n",
    "    preds = model.predict_proba(test[predictors])[:, 1] # this will predict the probability instead\n",
    "    preds[preds >= .6] = 1  # setting new thresholds, this will set a threshold for when the model is confident at 60%, if so then it will make a prediction, it increased the chance the price will go up. Don't want to rade every day\n",
    "    preds[preds < .6] = 0  # \n",
    "    preds = pd.Series(preds, index = test.index, name = \"Predictions\")\n",
    "    combined = pd.concat([test[\"Target\"], preds], axis = 1)\n",
    "    \n",
    "    #return \n",
    "    return combined"
   ]
  },
  {
   "cell_type": "code",
   "execution_count": 112,
   "id": "cad69143-fc61-440a-aae6-034623e0ef14",
   "metadata": {},
   "outputs": [],
   "source": [
    "# Implement the backtest funtion on the new model\n",
    "predictions = backtest(sp500, model, new_predictors)"
   ]
  },
  {
   "cell_type": "code",
   "execution_count": 113,
   "id": "35718acc-9465-464b-84f4-8e2ef736b8b5",
   "metadata": {},
   "outputs": [
    {
     "data": {
      "text/plain": [
       "0.0    3881\n",
       "1.0     797\n",
       "Name: Predictions, dtype: int64"
      ]
     },
     "execution_count": 113,
     "metadata": {},
     "output_type": "execute_result"
    }
   ],
   "source": [
    "# Check the value counts for the predictions\n",
    "predictions[\"Predictions\"].value_counts()"
   ]
  },
  {
   "cell_type": "markdown",
   "id": "0bbb25ba-2af2-48b1-9333-71a40104553b",
   "metadata": {},
   "source": [
    "Our new model now predicts much less frequently that the stock price will go up. This is because the new predict function provides a threshold that asks the model to be more confident before making a prediction on whether or not the stock price went up. "
   ]
  },
  {
   "cell_type": "code",
   "execution_count": 114,
   "id": "0cc72c64-1876-40cf-bd72-a70e7dc2fff8",
   "metadata": {},
   "outputs": [
    {
     "data": {
      "text/plain": [
       "0.5721455457967378"
      ]
     },
     "execution_count": 114,
     "metadata": {},
     "output_type": "execute_result"
    }
   ],
   "source": [
    "# Checking the new precision score\n",
    "\n",
    "precision_score(predictions[\"Target\"], predictions[\"Predictions\"])"
   ]
  },
  {
   "cell_type": "markdown",
   "id": "5708dd4a-cc15-499f-ad1c-f7cb568f9efb",
   "metadata": {},
   "source": [
    "### Observations\n",
    "- What we see from the score above is that now when the stock price score actually goes up, we see that the model predicts it will go up 57.2% of the time. This isn't great still, but it's much improved from the initial model at 44%. "
   ]
  },
  {
   "cell_type": "markdown",
   "id": "f2f0af68-41a4-431b-ba24-d346b6e1f5bf",
   "metadata": {},
   "source": [
    "## Conclusions\n",
    "\n",
    "This project was an introductory look into predicting stock data.\n",
    "\n",
    "1. We downloaded stock data using the Yahoo Finance API. \n",
    "2. I cleaned and did some brief visualizations on the data\n",
    "3. I set up a target variable for machine learning to make predictions on. \n",
    "4. I trained the initial model, evaluate the level of error on the model/ \n",
    "5. Then I created a function that would allow me to backtest and measure the errors of the model over different periods of time. \n",
    "6. Finally, I improved the model by adding some extra predictor columns to the model. "
   ]
  },
  {
   "cell_type": "code",
   "execution_count": null,
   "id": "a4de766e-22a9-4567-9aa1-0255a5614cbc",
   "metadata": {},
   "outputs": [],
   "source": []
  }
 ],
 "metadata": {
  "kernelspec": {
   "display_name": "Python 3",
   "language": "python",
   "name": "python3"
  },
  "language_info": {
   "codemirror_mode": {
    "name": "ipython",
    "version": 3
   },
   "file_extension": ".py",
   "mimetype": "text/x-python",
   "name": "python",
   "nbconvert_exporter": "python",
   "pygments_lexer": "ipython3",
   "version": "3.8.8"
  }
 },
 "nbformat": 4,
 "nbformat_minor": 5
}
